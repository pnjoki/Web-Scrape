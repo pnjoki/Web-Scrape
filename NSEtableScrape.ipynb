{
 "cells": [
  {
   "cell_type": "code",
   "execution_count": 2,
   "metadata": {},
   "outputs": [],
   "source": [
    "import urllib.request\n",
    "import pandas as pd"
   ]
  },
  {
   "cell_type": "markdown",
   "metadata": {},
   "source": [
    "#list of publicly listed NSE market statistics"
   ]
  },
  {
   "cell_type": "code",
   "execution_count": 3,
   "metadata": {},
   "outputs": [],
   "source": [
    "url = \"https://www.nse.co.ke/dataservices/market-statistics\""
   ]
  },
  {
   "cell_type": "code",
   "execution_count": 5,
   "metadata": {},
   "outputs": [
    {
     "name": "stdout",
     "output_type": "stream",
     "text": [
      "                    Name        Value      Change\n",
      "0    NSE ALL SHARE INDEX       141.28        1.34\n",
      "1     NSE 20 SHARE INDEX      1719.40        4.43\n",
      "2     NSE 25 SHARE INDEX      3277.54       22.88\n",
      "3  MARKET CAPITALIZATION      2201.82       20.96\n",
      "4     TOTAL SHARE TRADED  12568300.00 -2886400.00\n"
     ]
    }
   ],
   "source": [
    "with urllib.request.urlopen(url) as i:\n",
    "    html = i.read()\n",
    "data = pd.read_html(html)[0]\n",
    "print(data.head())"
   ]
  },
  {
   "cell_type": "code",
   "execution_count": null,
   "metadata": {},
   "outputs": [],
   "source": [
    "#pnjoki"
   ]
  }
 ],
 "metadata": {
  "kernelspec": {
   "display_name": "Python (learn-env)",
   "language": "python",
   "name": "learn-env"
  },
  "language_info": {
   "codemirror_mode": {
    "name": "ipython",
    "version": 3
   },
   "file_extension": ".py",
   "mimetype": "text/x-python",
   "name": "python",
   "nbconvert_exporter": "python",
   "pygments_lexer": "ipython3",
   "version": "3.9.12"
  }
 },
 "nbformat": 4,
 "nbformat_minor": 4
}
